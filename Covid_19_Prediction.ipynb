{
  "nbformat": 4,
  "nbformat_minor": 0,
  "metadata": {
    "colab": {
      "provenance": [],
      "include_colab_link": true
    },
    "kernelspec": {
      "name": "python3",
      "display_name": "Python 3"
    },
    "language_info": {
      "name": "python"
    }
  },
  "cells": [
    {
      "cell_type": "markdown",
      "metadata": {
        "id": "view-in-github",
        "colab_type": "text"
      },
      "source": [
        "<a href=\"https://colab.research.google.com/github/MazedaZ/Covid-19-Prediction/blob/main/Covid_19_Prediction.ipynb\" target=\"_parent\"><img src=\"https://colab.research.google.com/assets/colab-badge.svg\" alt=\"Open In Colab\"/></a>"
      ]
    },
    {
      "cell_type": "markdown",
      "source": [
        "# **Data Loading**"
      ],
      "metadata": {
        "id": "qFb0wGP0MUws"
      }
    },
    {
      "cell_type": "code",
      "execution_count": null,
      "metadata": {
        "id": "R_IktMMj_Jxn"
      },
      "outputs": [],
      "source": [
        "import os"
      ]
    },
    {
      "cell_type": "code",
      "source": [
        "import pandas as pd\n",
        "import numpy as np\n",
        "from sklearn import linear_model\n",
        "from sklearn.model_selection import train_test_split\n",
        "import matplotlib.pyplot as plt\n",
        "from sklearn.metrics import mean_absolute_error\n",
        "from sklearn.metrics import mean_squared_error\n",
        "from sklearn.metrics import r2_score\n",
        "from sklearn.ensemble import RandomForestRegressor\n",
        "from sklearn.linear_model import Ridge\n",
        "from sklearn.linear_model import Lasso\n",
        "from sklearn.preprocessing import PolynomialFeatures\n",
        "from sklearn.linear_model import LogisticRegression"
      ],
      "metadata": {
        "id": "4U33Gh-k__P4"
      },
      "execution_count": null,
      "outputs": []
    },
    {
      "cell_type": "code",
      "source": [
        "SOURCE_FILES = os.path.join('workspace', 'data')"
      ],
      "metadata": {
        "id": "UUaFzb8s_Njg"
      },
      "execution_count": null,
      "outputs": []
    },
    {
      "cell_type": "code",
      "source": [
        "!rm -r workspace"
      ],
      "metadata": {
        "id": "0WvOAlh1_ZnZ"
      },
      "execution_count": null,
      "outputs": []
    },
    {
      "cell_type": "code",
      "source": [
        "os.chdir('/content')\n",
        "print(os.path)\n"
      ],
      "metadata": {
        "id": "Gpg1ZAwiN9D7",
        "colab": {
          "base_uri": "https://localhost:8080/"
        },
        "outputId": "8f0f91ea-35c9-4780-b1fa-747802ee14a6"
      },
      "execution_count": null,
      "outputs": [
        {
          "output_type": "stream",
          "name": "stdout",
          "text": [
            "<module 'posixpath' from '/usr/lib/python3.7/posixpath.py'>\n"
          ]
        }
      ]
    },
    {
      "cell_type": "code",
      "source": [
        "if not os.path.exists(SOURCE_FILES):\n",
        "    !mkdir -p {SOURCE_FILES}\n",
        "    !mkdir -p {CHECKPOINT_PATH}\n",
        "    # wget is a library to retrieve files through HTTP from the internet.\n",
        "    !wget -O src.rar https://www.dropbox.com/s/l42hl14hzj87lx0/COVID-19-BD-Dataset.rar?dl=0#:~:text=Sign%20up-,Direct,-download\n",
        "    !mv src.rar {SOURCE_FILES}\n",
        "    %cd {SOURCE_FILES}\n",
        "    !unrar x src.rar\n",
        "    !rm src.rar"
      ],
      "metadata": {
        "id": "6or5w3W-_N94"
      },
      "execution_count": null,
      "outputs": []
    },
    {
      "cell_type": "code",
      "source": [
        "!pwd"
      ],
      "metadata": {
        "colab": {
          "base_uri": "https://localhost:8080/"
        },
        "id": "Uf0mZOHH_eDQ",
        "outputId": "61f026f4-d2c9-46af-827b-2500559a6c38"
      },
      "execution_count": null,
      "outputs": [
        {
          "output_type": "stream",
          "name": "stdout",
          "text": [
            "/content\n"
          ]
        }
      ]
    },
    {
      "cell_type": "markdown",
      "source": [
        "# **Data Handeling**"
      ],
      "metadata": {
        "id": "70knI8YYNS5L"
      }
    },
    {
      "cell_type": "code",
      "source": [
        "dataSet =  pd.read_csv('/content/workspace/data/COVID-19-BD-Dataset.csv')"
      ],
      "metadata": {
        "id": "4wCkLeYIABfw"
      },
      "execution_count": null,
      "outputs": []
    },
    {
      "cell_type": "code",
      "source": [
        "def trans_lockDown(x):\n",
        "  if x == 'Yes':\n",
        "    return 1\n",
        "  if x == 'No':\n",
        "    return 0\n",
        ""
      ],
      "metadata": {
        "id": "uE--dkAykDdm"
      },
      "execution_count": null,
      "outputs": []
    },
    {
      "cell_type": "code",
      "source": [
        "dataSet['Trans_Lockdown'] = dataSet['Lockdown'].apply(trans_lockDown)"
      ],
      "metadata": {
        "id": "ccBh8hfikeQ0"
      },
      "execution_count": null,
      "outputs": []
    },
    {
      "cell_type": "code",
      "source": [
        "dataSet"
      ],
      "metadata": {
        "colab": {
          "base_uri": "https://localhost:8080/",
          "height": 655
        },
        "id": "ASYLOUsX1sGr",
        "outputId": "09230f40-2793-47f0-fb7a-d5d87bbb2cd0"
      },
      "execution_count": null,
      "outputs": [
        {
          "output_type": "execute_result",
          "data": {
            "text/html": [
              "\n",
              "  <div id=\"df-83112a89-04ca-4da7-877c-f47b9ce710dd\">\n",
              "    <div class=\"colab-df-container\">\n",
              "      <div>\n",
              "<style scoped>\n",
              "    .dataframe tbody tr th:only-of-type {\n",
              "        vertical-align: middle;\n",
              "    }\n",
              "\n",
              "    .dataframe tbody tr th {\n",
              "        vertical-align: top;\n",
              "    }\n",
              "\n",
              "    .dataframe thead th {\n",
              "        text-align: right;\n",
              "    }\n",
              "</style>\n",
              "<table border=\"1\" class=\"dataframe\">\n",
              "  <thead>\n",
              "    <tr style=\"text-align: right;\">\n",
              "      <th></th>\n",
              "      <th>Date</th>\n",
              "      <th>Daily new confirmed cases</th>\n",
              "      <th>Lockdown</th>\n",
              "      <th>Daily new deaths</th>\n",
              "      <th>Vaccinated Dose 1</th>\n",
              "      <th>vaccinated Dose 2</th>\n",
              "      <th>Recovered</th>\n",
              "      <th>Daily New Tests</th>\n",
              "      <th>Trans_Lockdown</th>\n",
              "    </tr>\n",
              "  </thead>\n",
              "  <tbody>\n",
              "    <tr>\n",
              "      <th>0</th>\n",
              "      <td>12/31/2020</td>\n",
              "      <td>1014</td>\n",
              "      <td>No</td>\n",
              "      <td>28</td>\n",
              "      <td>0</td>\n",
              "      <td>0</td>\n",
              "      <td>1200</td>\n",
              "      <td>13135</td>\n",
              "      <td>0</td>\n",
              "    </tr>\n",
              "    <tr>\n",
              "      <th>1</th>\n",
              "      <td>1/1/2021</td>\n",
              "      <td>990</td>\n",
              "      <td>No</td>\n",
              "      <td>17</td>\n",
              "      <td>0</td>\n",
              "      <td>0</td>\n",
              "      <td>1200</td>\n",
              "      <td>12908</td>\n",
              "      <td>0</td>\n",
              "    </tr>\n",
              "    <tr>\n",
              "      <th>2</th>\n",
              "      <td>1/2/2021</td>\n",
              "      <td>684</td>\n",
              "      <td>No</td>\n",
              "      <td>23</td>\n",
              "      <td>0</td>\n",
              "      <td>0</td>\n",
              "      <td>1200</td>\n",
              "      <td>12877</td>\n",
              "      <td>0</td>\n",
              "    </tr>\n",
              "    <tr>\n",
              "      <th>3</th>\n",
              "      <td>1/3/2021</td>\n",
              "      <td>835</td>\n",
              "      <td>No</td>\n",
              "      <td>27</td>\n",
              "      <td>0</td>\n",
              "      <td>0</td>\n",
              "      <td>2860</td>\n",
              "      <td>12631</td>\n",
              "      <td>0</td>\n",
              "    </tr>\n",
              "    <tr>\n",
              "      <th>4</th>\n",
              "      <td>1/4/2021</td>\n",
              "      <td>910</td>\n",
              "      <td>No</td>\n",
              "      <td>24</td>\n",
              "      <td>0</td>\n",
              "      <td>0</td>\n",
              "      <td>944</td>\n",
              "      <td>12389</td>\n",
              "      <td>0</td>\n",
              "    </tr>\n",
              "    <tr>\n",
              "      <th>...</th>\n",
              "      <td>...</td>\n",
              "      <td>...</td>\n",
              "      <td>...</td>\n",
              "      <td>...</td>\n",
              "      <td>...</td>\n",
              "      <td>...</td>\n",
              "      <td>...</td>\n",
              "      <td>...</td>\n",
              "      <td>...</td>\n",
              "    </tr>\n",
              "    <tr>\n",
              "      <th>361</th>\n",
              "      <td>12/27/2021</td>\n",
              "      <td>373</td>\n",
              "      <td>No</td>\n",
              "      <td>1</td>\n",
              "      <td>73563574</td>\n",
              "      <td>51474890</td>\n",
              "      <td>6109</td>\n",
              "      <td>17752</td>\n",
              "      <td>0</td>\n",
              "    </tr>\n",
              "    <tr>\n",
              "      <th>362</th>\n",
              "      <td>12/28/2021</td>\n",
              "      <td>397</td>\n",
              "      <td>No</td>\n",
              "      <td>1</td>\n",
              "      <td>73986361</td>\n",
              "      <td>52096411</td>\n",
              "      <td>6124</td>\n",
              "      <td>17471</td>\n",
              "      <td>0</td>\n",
              "    </tr>\n",
              "    <tr>\n",
              "      <th>363</th>\n",
              "      <td>12/29/2021</td>\n",
              "      <td>495</td>\n",
              "      <td>No</td>\n",
              "      <td>1</td>\n",
              "      <td>74409148</td>\n",
              "      <td>52717932</td>\n",
              "      <td>6140</td>\n",
              "      <td>17776</td>\n",
              "      <td>0</td>\n",
              "    </tr>\n",
              "    <tr>\n",
              "      <th>364</th>\n",
              "      <td>12/30/2021</td>\n",
              "      <td>509</td>\n",
              "      <td>No</td>\n",
              "      <td>7</td>\n",
              "      <td>74831934</td>\n",
              "      <td>53339452</td>\n",
              "      <td>6155</td>\n",
              "      <td>18211</td>\n",
              "      <td>0</td>\n",
              "    </tr>\n",
              "    <tr>\n",
              "      <th>365</th>\n",
              "      <td>12/31/2021</td>\n",
              "      <td>512</td>\n",
              "      <td>No</td>\n",
              "      <td>2</td>\n",
              "      <td>75254721</td>\n",
              "      <td>53960973</td>\n",
              "      <td>6170</td>\n",
              "      <td>18462</td>\n",
              "      <td>0</td>\n",
              "    </tr>\n",
              "  </tbody>\n",
              "</table>\n",
              "<p>366 rows × 9 columns</p>\n",
              "</div>\n",
              "      <button class=\"colab-df-convert\" onclick=\"convertToInteractive('df-83112a89-04ca-4da7-877c-f47b9ce710dd')\"\n",
              "              title=\"Convert this dataframe to an interactive table.\"\n",
              "              style=\"display:none;\">\n",
              "        \n",
              "  <svg xmlns=\"http://www.w3.org/2000/svg\" height=\"24px\"viewBox=\"0 0 24 24\"\n",
              "       width=\"24px\">\n",
              "    <path d=\"M0 0h24v24H0V0z\" fill=\"none\"/>\n",
              "    <path d=\"M18.56 5.44l.94 2.06.94-2.06 2.06-.94-2.06-.94-.94-2.06-.94 2.06-2.06.94zm-11 1L8.5 8.5l.94-2.06 2.06-.94-2.06-.94L8.5 2.5l-.94 2.06-2.06.94zm10 10l.94 2.06.94-2.06 2.06-.94-2.06-.94-.94-2.06-.94 2.06-2.06.94z\"/><path d=\"M17.41 7.96l-1.37-1.37c-.4-.4-.92-.59-1.43-.59-.52 0-1.04.2-1.43.59L10.3 9.45l-7.72 7.72c-.78.78-.78 2.05 0 2.83L4 21.41c.39.39.9.59 1.41.59.51 0 1.02-.2 1.41-.59l7.78-7.78 2.81-2.81c.8-.78.8-2.07 0-2.86zM5.41 20L4 18.59l7.72-7.72 1.47 1.35L5.41 20z\"/>\n",
              "  </svg>\n",
              "      </button>\n",
              "      \n",
              "  <style>\n",
              "    .colab-df-container {\n",
              "      display:flex;\n",
              "      flex-wrap:wrap;\n",
              "      gap: 12px;\n",
              "    }\n",
              "\n",
              "    .colab-df-convert {\n",
              "      background-color: #E8F0FE;\n",
              "      border: none;\n",
              "      border-radius: 50%;\n",
              "      cursor: pointer;\n",
              "      display: none;\n",
              "      fill: #1967D2;\n",
              "      height: 32px;\n",
              "      padding: 0 0 0 0;\n",
              "      width: 32px;\n",
              "    }\n",
              "\n",
              "    .colab-df-convert:hover {\n",
              "      background-color: #E2EBFA;\n",
              "      box-shadow: 0px 1px 2px rgba(60, 64, 67, 0.3), 0px 1px 3px 1px rgba(60, 64, 67, 0.15);\n",
              "      fill: #174EA6;\n",
              "    }\n",
              "\n",
              "    [theme=dark] .colab-df-convert {\n",
              "      background-color: #3B4455;\n",
              "      fill: #D2E3FC;\n",
              "    }\n",
              "\n",
              "    [theme=dark] .colab-df-convert:hover {\n",
              "      background-color: #434B5C;\n",
              "      box-shadow: 0px 1px 3px 1px rgba(0, 0, 0, 0.15);\n",
              "      filter: drop-shadow(0px 1px 2px rgba(0, 0, 0, 0.3));\n",
              "      fill: #FFFFFF;\n",
              "    }\n",
              "  </style>\n",
              "\n",
              "      <script>\n",
              "        const buttonEl =\n",
              "          document.querySelector('#df-83112a89-04ca-4da7-877c-f47b9ce710dd button.colab-df-convert');\n",
              "        buttonEl.style.display =\n",
              "          google.colab.kernel.accessAllowed ? 'block' : 'none';\n",
              "\n",
              "        async function convertToInteractive(key) {\n",
              "          const element = document.querySelector('#df-83112a89-04ca-4da7-877c-f47b9ce710dd');\n",
              "          const dataTable =\n",
              "            await google.colab.kernel.invokeFunction('convertToInteractive',\n",
              "                                                     [key], {});\n",
              "          if (!dataTable) return;\n",
              "\n",
              "          const docLinkHtml = 'Like what you see? Visit the ' +\n",
              "            '<a target=\"_blank\" href=https://colab.research.google.com/notebooks/data_table.ipynb>data table notebook</a>'\n",
              "            + ' to learn more about interactive tables.';\n",
              "          element.innerHTML = '';\n",
              "          dataTable['output_type'] = 'display_data';\n",
              "          await google.colab.output.renderOutput(dataTable, element);\n",
              "          const docLink = document.createElement('div');\n",
              "          docLink.innerHTML = docLinkHtml;\n",
              "          element.appendChild(docLink);\n",
              "        }\n",
              "      </script>\n",
              "    </div>\n",
              "  </div>\n",
              "  "
            ],
            "text/plain": [
              "           Date  Daily new confirmed cases Lockdown  Daily new deaths  \\\n",
              "0    12/31/2020                       1014       No                28   \n",
              "1      1/1/2021                        990       No                17   \n",
              "2      1/2/2021                        684       No                23   \n",
              "3      1/3/2021                        835       No                27   \n",
              "4      1/4/2021                        910       No                24   \n",
              "..          ...                        ...      ...               ...   \n",
              "361  12/27/2021                        373       No                 1   \n",
              "362  12/28/2021                        397       No                 1   \n",
              "363  12/29/2021                        495       No                 1   \n",
              "364  12/30/2021                        509       No                 7   \n",
              "365  12/31/2021                        512       No                 2   \n",
              "\n",
              "     Vaccinated Dose 1  vaccinated Dose 2  Recovered  Daily New Tests  \\\n",
              "0                    0                  0       1200            13135   \n",
              "1                    0                  0       1200            12908   \n",
              "2                    0                  0       1200            12877   \n",
              "3                    0                  0       2860            12631   \n",
              "4                    0                  0        944            12389   \n",
              "..                 ...                ...        ...              ...   \n",
              "361           73563574           51474890       6109            17752   \n",
              "362           73986361           52096411       6124            17471   \n",
              "363           74409148           52717932       6140            17776   \n",
              "364           74831934           53339452       6155            18211   \n",
              "365           75254721           53960973       6170            18462   \n",
              "\n",
              "     Trans_Lockdown  \n",
              "0                 0  \n",
              "1                 0  \n",
              "2                 0  \n",
              "3                 0  \n",
              "4                 0  \n",
              "..              ...  \n",
              "361               0  \n",
              "362               0  \n",
              "363               0  \n",
              "364               0  \n",
              "365               0  \n",
              "\n",
              "[366 rows x 9 columns]"
            ]
          },
          "metadata": {},
          "execution_count": 348
        }
      ]
    },
    {
      "cell_type": "code",
      "source": [
        "dataSet.describe()"
      ],
      "metadata": {
        "colab": {
          "base_uri": "https://localhost:8080/",
          "height": 300
        },
        "id": "Ou22inq4iiy3",
        "outputId": "2c8c792f-c15b-4138-e0ef-ad53e564350c"
      },
      "execution_count": null,
      "outputs": [
        {
          "output_type": "execute_result",
          "data": {
            "text/html": [
              "\n",
              "  <div id=\"df-626b26e9-4605-4dc5-8eaa-f882883898ae\">\n",
              "    <div class=\"colab-df-container\">\n",
              "      <div>\n",
              "<style scoped>\n",
              "    .dataframe tbody tr th:only-of-type {\n",
              "        vertical-align: middle;\n",
              "    }\n",
              "\n",
              "    .dataframe tbody tr th {\n",
              "        vertical-align: top;\n",
              "    }\n",
              "\n",
              "    .dataframe thead th {\n",
              "        text-align: right;\n",
              "    }\n",
              "</style>\n",
              "<table border=\"1\" class=\"dataframe\">\n",
              "  <thead>\n",
              "    <tr style=\"text-align: right;\">\n",
              "      <th></th>\n",
              "      <th>Daily new confirmed cases</th>\n",
              "      <th>Daily new deaths</th>\n",
              "      <th>Vaccinated Dose 1</th>\n",
              "      <th>vaccinated Dose 2</th>\n",
              "      <th>Recovered</th>\n",
              "      <th>Daily New Tests</th>\n",
              "      <th>Trans_Lockdown</th>\n",
              "    </tr>\n",
              "  </thead>\n",
              "  <tbody>\n",
              "    <tr>\n",
              "      <th>count</th>\n",
              "      <td>366.000000</td>\n",
              "      <td>366.000000</td>\n",
              "      <td>3.660000e+02</td>\n",
              "      <td>3.660000e+02</td>\n",
              "      <td>366.000000</td>\n",
              "      <td>366.000000</td>\n",
              "      <td>366.000000</td>\n",
              "    </tr>\n",
              "    <tr>\n",
              "      <th>mean</th>\n",
              "      <td>2931.811475</td>\n",
              "      <td>22.131148</td>\n",
              "      <td>1.867502e+07</td>\n",
              "      <td>1.084151e+07</td>\n",
              "      <td>3300.576503</td>\n",
              "      <td>22521.286885</td>\n",
              "      <td>0.161202</td>\n",
              "    </tr>\n",
              "    <tr>\n",
              "      <th>std</th>\n",
              "      <td>3713.943779</td>\n",
              "      <td>22.391394</td>\n",
              "      <td>2.158770e+07</td>\n",
              "      <td>1.415431e+07</td>\n",
              "      <td>2520.257690</td>\n",
              "      <td>8338.203361</td>\n",
              "      <td>0.368221</td>\n",
              "    </tr>\n",
              "    <tr>\n",
              "      <th>min</th>\n",
              "      <td>0.000000</td>\n",
              "      <td>0.000000</td>\n",
              "      <td>0.000000e+00</td>\n",
              "      <td>0.000000e+00</td>\n",
              "      <td>0.000000</td>\n",
              "      <td>10046.000000</td>\n",
              "      <td>0.000000</td>\n",
              "    </tr>\n",
              "    <tr>\n",
              "      <th>25%</th>\n",
              "      <td>400.250000</td>\n",
              "      <td>8.000000</td>\n",
              "      <td>5.380996e+06</td>\n",
              "      <td>0.000000e+00</td>\n",
              "      <td>963.750000</td>\n",
              "      <td>16569.750000</td>\n",
              "      <td>0.000000</td>\n",
              "    </tr>\n",
              "    <tr>\n",
              "      <th>50%</th>\n",
              "      <td>1278.500000</td>\n",
              "      <td>15.000000</td>\n",
              "      <td>5.823245e+06</td>\n",
              "      <td>4.279770e+06</td>\n",
              "      <td>3711.000000</td>\n",
              "      <td>19426.500000</td>\n",
              "      <td>0.000000</td>\n",
              "    </tr>\n",
              "    <tr>\n",
              "      <th>75%</th>\n",
              "      <td>3901.750000</td>\n",
              "      <td>28.000000</td>\n",
              "      <td>3.239208e+07</td>\n",
              "      <td>1.696677e+07</td>\n",
              "      <td>5016.500000</td>\n",
              "      <td>26763.750000</td>\n",
              "      <td>0.000000</td>\n",
              "    </tr>\n",
              "    <tr>\n",
              "      <th>max</th>\n",
              "      <td>16230.000000</td>\n",
              "      <td>112.000000</td>\n",
              "      <td>7.525472e+07</td>\n",
              "      <td>5.396097e+07</td>\n",
              "      <td>19700.000000</td>\n",
              "      <td>45745.000000</td>\n",
              "      <td>1.000000</td>\n",
              "    </tr>\n",
              "  </tbody>\n",
              "</table>\n",
              "</div>\n",
              "      <button class=\"colab-df-convert\" onclick=\"convertToInteractive('df-626b26e9-4605-4dc5-8eaa-f882883898ae')\"\n",
              "              title=\"Convert this dataframe to an interactive table.\"\n",
              "              style=\"display:none;\">\n",
              "        \n",
              "  <svg xmlns=\"http://www.w3.org/2000/svg\" height=\"24px\"viewBox=\"0 0 24 24\"\n",
              "       width=\"24px\">\n",
              "    <path d=\"M0 0h24v24H0V0z\" fill=\"none\"/>\n",
              "    <path d=\"M18.56 5.44l.94 2.06.94-2.06 2.06-.94-2.06-.94-.94-2.06-.94 2.06-2.06.94zm-11 1L8.5 8.5l.94-2.06 2.06-.94-2.06-.94L8.5 2.5l-.94 2.06-2.06.94zm10 10l.94 2.06.94-2.06 2.06-.94-2.06-.94-.94-2.06-.94 2.06-2.06.94z\"/><path d=\"M17.41 7.96l-1.37-1.37c-.4-.4-.92-.59-1.43-.59-.52 0-1.04.2-1.43.59L10.3 9.45l-7.72 7.72c-.78.78-.78 2.05 0 2.83L4 21.41c.39.39.9.59 1.41.59.51 0 1.02-.2 1.41-.59l7.78-7.78 2.81-2.81c.8-.78.8-2.07 0-2.86zM5.41 20L4 18.59l7.72-7.72 1.47 1.35L5.41 20z\"/>\n",
              "  </svg>\n",
              "      </button>\n",
              "      \n",
              "  <style>\n",
              "    .colab-df-container {\n",
              "      display:flex;\n",
              "      flex-wrap:wrap;\n",
              "      gap: 12px;\n",
              "    }\n",
              "\n",
              "    .colab-df-convert {\n",
              "      background-color: #E8F0FE;\n",
              "      border: none;\n",
              "      border-radius: 50%;\n",
              "      cursor: pointer;\n",
              "      display: none;\n",
              "      fill: #1967D2;\n",
              "      height: 32px;\n",
              "      padding: 0 0 0 0;\n",
              "      width: 32px;\n",
              "    }\n",
              "\n",
              "    .colab-df-convert:hover {\n",
              "      background-color: #E2EBFA;\n",
              "      box-shadow: 0px 1px 2px rgba(60, 64, 67, 0.3), 0px 1px 3px 1px rgba(60, 64, 67, 0.15);\n",
              "      fill: #174EA6;\n",
              "    }\n",
              "\n",
              "    [theme=dark] .colab-df-convert {\n",
              "      background-color: #3B4455;\n",
              "      fill: #D2E3FC;\n",
              "    }\n",
              "\n",
              "    [theme=dark] .colab-df-convert:hover {\n",
              "      background-color: #434B5C;\n",
              "      box-shadow: 0px 1px 3px 1px rgba(0, 0, 0, 0.15);\n",
              "      filter: drop-shadow(0px 1px 2px rgba(0, 0, 0, 0.3));\n",
              "      fill: #FFFFFF;\n",
              "    }\n",
              "  </style>\n",
              "\n",
              "      <script>\n",
              "        const buttonEl =\n",
              "          document.querySelector('#df-626b26e9-4605-4dc5-8eaa-f882883898ae button.colab-df-convert');\n",
              "        buttonEl.style.display =\n",
              "          google.colab.kernel.accessAllowed ? 'block' : 'none';\n",
              "\n",
              "        async function convertToInteractive(key) {\n",
              "          const element = document.querySelector('#df-626b26e9-4605-4dc5-8eaa-f882883898ae');\n",
              "          const dataTable =\n",
              "            await google.colab.kernel.invokeFunction('convertToInteractive',\n",
              "                                                     [key], {});\n",
              "          if (!dataTable) return;\n",
              "\n",
              "          const docLinkHtml = 'Like what you see? Visit the ' +\n",
              "            '<a target=\"_blank\" href=https://colab.research.google.com/notebooks/data_table.ipynb>data table notebook</a>'\n",
              "            + ' to learn more about interactive tables.';\n",
              "          element.innerHTML = '';\n",
              "          dataTable['output_type'] = 'display_data';\n",
              "          await google.colab.output.renderOutput(dataTable, element);\n",
              "          const docLink = document.createElement('div');\n",
              "          docLink.innerHTML = docLinkHtml;\n",
              "          element.appendChild(docLink);\n",
              "        }\n",
              "      </script>\n",
              "    </div>\n",
              "  </div>\n",
              "  "
            ],
            "text/plain": [
              "       Daily new confirmed cases  Daily new deaths  Vaccinated Dose 1  \\\n",
              "count                 366.000000        366.000000       3.660000e+02   \n",
              "mean                 2931.811475         22.131148       1.867502e+07   \n",
              "std                  3713.943779         22.391394       2.158770e+07   \n",
              "min                     0.000000          0.000000       0.000000e+00   \n",
              "25%                   400.250000          8.000000       5.380996e+06   \n",
              "50%                  1278.500000         15.000000       5.823245e+06   \n",
              "75%                  3901.750000         28.000000       3.239208e+07   \n",
              "max                 16230.000000        112.000000       7.525472e+07   \n",
              "\n",
              "       vaccinated Dose 2     Recovered  Daily New Tests  Trans_Lockdown  \n",
              "count       3.660000e+02    366.000000       366.000000      366.000000  \n",
              "mean        1.084151e+07   3300.576503     22521.286885        0.161202  \n",
              "std         1.415431e+07   2520.257690      8338.203361        0.368221  \n",
              "min         0.000000e+00      0.000000     10046.000000        0.000000  \n",
              "25%         0.000000e+00    963.750000     16569.750000        0.000000  \n",
              "50%         4.279770e+06   3711.000000     19426.500000        0.000000  \n",
              "75%         1.696677e+07   5016.500000     26763.750000        0.000000  \n",
              "max         5.396097e+07  19700.000000     45745.000000        1.000000  "
            ]
          },
          "metadata": {},
          "execution_count": 349
        }
      ]
    },
    {
      "cell_type": "code",
      "source": [
        "feature = ['Daily New Tests','Daily new confirmed cases','Vaccinated Dose 1','vaccinated Dose 2','Recovered','Trans_Lockdown']\n",
        "target = ['Daily new deaths']"
      ],
      "metadata": {
        "id": "Sh0PUZdiAZ1Y"
      },
      "execution_count": null,
      "outputs": []
    },
    {
      "cell_type": "code",
      "source": [
        "df_x = pd.DataFrame(dataSet,columns=feature)\n",
        "df_y = pd.DataFrame(dataSet,columns=target)"
      ],
      "metadata": {
        "id": "kWHRJJCFgAOk"
      },
      "execution_count": null,
      "outputs": []
    },
    {
      "cell_type": "code",
      "source": [
        "df_x"
      ],
      "metadata": {
        "colab": {
          "base_uri": "https://localhost:8080/",
          "height": 424
        },
        "id": "omX00CmHAq5W",
        "outputId": "5897d733-3374-4f30-82ed-3767937715ec"
      },
      "execution_count": null,
      "outputs": [
        {
          "output_type": "execute_result",
          "data": {
            "text/html": [
              "\n",
              "  <div id=\"df-0110c324-302c-4075-86d7-247bd34207aa\">\n",
              "    <div class=\"colab-df-container\">\n",
              "      <div>\n",
              "<style scoped>\n",
              "    .dataframe tbody tr th:only-of-type {\n",
              "        vertical-align: middle;\n",
              "    }\n",
              "\n",
              "    .dataframe tbody tr th {\n",
              "        vertical-align: top;\n",
              "    }\n",
              "\n",
              "    .dataframe thead th {\n",
              "        text-align: right;\n",
              "    }\n",
              "</style>\n",
              "<table border=\"1\" class=\"dataframe\">\n",
              "  <thead>\n",
              "    <tr style=\"text-align: right;\">\n",
              "      <th></th>\n",
              "      <th>Daily New Tests</th>\n",
              "      <th>Daily new confirmed cases</th>\n",
              "      <th>Vaccinated Dose 1</th>\n",
              "      <th>vaccinated Dose 2</th>\n",
              "      <th>Recovered</th>\n",
              "      <th>Trans_Lockdown</th>\n",
              "    </tr>\n",
              "  </thead>\n",
              "  <tbody>\n",
              "    <tr>\n",
              "      <th>0</th>\n",
              "      <td>13135</td>\n",
              "      <td>1014</td>\n",
              "      <td>0</td>\n",
              "      <td>0</td>\n",
              "      <td>1200</td>\n",
              "      <td>0</td>\n",
              "    </tr>\n",
              "    <tr>\n",
              "      <th>1</th>\n",
              "      <td>12908</td>\n",
              "      <td>990</td>\n",
              "      <td>0</td>\n",
              "      <td>0</td>\n",
              "      <td>1200</td>\n",
              "      <td>0</td>\n",
              "    </tr>\n",
              "    <tr>\n",
              "      <th>2</th>\n",
              "      <td>12877</td>\n",
              "      <td>684</td>\n",
              "      <td>0</td>\n",
              "      <td>0</td>\n",
              "      <td>1200</td>\n",
              "      <td>0</td>\n",
              "    </tr>\n",
              "    <tr>\n",
              "      <th>3</th>\n",
              "      <td>12631</td>\n",
              "      <td>835</td>\n",
              "      <td>0</td>\n",
              "      <td>0</td>\n",
              "      <td>2860</td>\n",
              "      <td>0</td>\n",
              "    </tr>\n",
              "    <tr>\n",
              "      <th>4</th>\n",
              "      <td>12389</td>\n",
              "      <td>910</td>\n",
              "      <td>0</td>\n",
              "      <td>0</td>\n",
              "      <td>944</td>\n",
              "      <td>0</td>\n",
              "    </tr>\n",
              "    <tr>\n",
              "      <th>...</th>\n",
              "      <td>...</td>\n",
              "      <td>...</td>\n",
              "      <td>...</td>\n",
              "      <td>...</td>\n",
              "      <td>...</td>\n",
              "      <td>...</td>\n",
              "    </tr>\n",
              "    <tr>\n",
              "      <th>361</th>\n",
              "      <td>17752</td>\n",
              "      <td>373</td>\n",
              "      <td>73563574</td>\n",
              "      <td>51474890</td>\n",
              "      <td>6109</td>\n",
              "      <td>0</td>\n",
              "    </tr>\n",
              "    <tr>\n",
              "      <th>362</th>\n",
              "      <td>17471</td>\n",
              "      <td>397</td>\n",
              "      <td>73986361</td>\n",
              "      <td>52096411</td>\n",
              "      <td>6124</td>\n",
              "      <td>0</td>\n",
              "    </tr>\n",
              "    <tr>\n",
              "      <th>363</th>\n",
              "      <td>17776</td>\n",
              "      <td>495</td>\n",
              "      <td>74409148</td>\n",
              "      <td>52717932</td>\n",
              "      <td>6140</td>\n",
              "      <td>0</td>\n",
              "    </tr>\n",
              "    <tr>\n",
              "      <th>364</th>\n",
              "      <td>18211</td>\n",
              "      <td>509</td>\n",
              "      <td>74831934</td>\n",
              "      <td>53339452</td>\n",
              "      <td>6155</td>\n",
              "      <td>0</td>\n",
              "    </tr>\n",
              "    <tr>\n",
              "      <th>365</th>\n",
              "      <td>18462</td>\n",
              "      <td>512</td>\n",
              "      <td>75254721</td>\n",
              "      <td>53960973</td>\n",
              "      <td>6170</td>\n",
              "      <td>0</td>\n",
              "    </tr>\n",
              "  </tbody>\n",
              "</table>\n",
              "<p>366 rows × 6 columns</p>\n",
              "</div>\n",
              "      <button class=\"colab-df-convert\" onclick=\"convertToInteractive('df-0110c324-302c-4075-86d7-247bd34207aa')\"\n",
              "              title=\"Convert this dataframe to an interactive table.\"\n",
              "              style=\"display:none;\">\n",
              "        \n",
              "  <svg xmlns=\"http://www.w3.org/2000/svg\" height=\"24px\"viewBox=\"0 0 24 24\"\n",
              "       width=\"24px\">\n",
              "    <path d=\"M0 0h24v24H0V0z\" fill=\"none\"/>\n",
              "    <path d=\"M18.56 5.44l.94 2.06.94-2.06 2.06-.94-2.06-.94-.94-2.06-.94 2.06-2.06.94zm-11 1L8.5 8.5l.94-2.06 2.06-.94-2.06-.94L8.5 2.5l-.94 2.06-2.06.94zm10 10l.94 2.06.94-2.06 2.06-.94-2.06-.94-.94-2.06-.94 2.06-2.06.94z\"/><path d=\"M17.41 7.96l-1.37-1.37c-.4-.4-.92-.59-1.43-.59-.52 0-1.04.2-1.43.59L10.3 9.45l-7.72 7.72c-.78.78-.78 2.05 0 2.83L4 21.41c.39.39.9.59 1.41.59.51 0 1.02-.2 1.41-.59l7.78-7.78 2.81-2.81c.8-.78.8-2.07 0-2.86zM5.41 20L4 18.59l7.72-7.72 1.47 1.35L5.41 20z\"/>\n",
              "  </svg>\n",
              "      </button>\n",
              "      \n",
              "  <style>\n",
              "    .colab-df-container {\n",
              "      display:flex;\n",
              "      flex-wrap:wrap;\n",
              "      gap: 12px;\n",
              "    }\n",
              "\n",
              "    .colab-df-convert {\n",
              "      background-color: #E8F0FE;\n",
              "      border: none;\n",
              "      border-radius: 50%;\n",
              "      cursor: pointer;\n",
              "      display: none;\n",
              "      fill: #1967D2;\n",
              "      height: 32px;\n",
              "      padding: 0 0 0 0;\n",
              "      width: 32px;\n",
              "    }\n",
              "\n",
              "    .colab-df-convert:hover {\n",
              "      background-color: #E2EBFA;\n",
              "      box-shadow: 0px 1px 2px rgba(60, 64, 67, 0.3), 0px 1px 3px 1px rgba(60, 64, 67, 0.15);\n",
              "      fill: #174EA6;\n",
              "    }\n",
              "\n",
              "    [theme=dark] .colab-df-convert {\n",
              "      background-color: #3B4455;\n",
              "      fill: #D2E3FC;\n",
              "    }\n",
              "\n",
              "    [theme=dark] .colab-df-convert:hover {\n",
              "      background-color: #434B5C;\n",
              "      box-shadow: 0px 1px 3px 1px rgba(0, 0, 0, 0.15);\n",
              "      filter: drop-shadow(0px 1px 2px rgba(0, 0, 0, 0.3));\n",
              "      fill: #FFFFFF;\n",
              "    }\n",
              "  </style>\n",
              "\n",
              "      <script>\n",
              "        const buttonEl =\n",
              "          document.querySelector('#df-0110c324-302c-4075-86d7-247bd34207aa button.colab-df-convert');\n",
              "        buttonEl.style.display =\n",
              "          google.colab.kernel.accessAllowed ? 'block' : 'none';\n",
              "\n",
              "        async function convertToInteractive(key) {\n",
              "          const element = document.querySelector('#df-0110c324-302c-4075-86d7-247bd34207aa');\n",
              "          const dataTable =\n",
              "            await google.colab.kernel.invokeFunction('convertToInteractive',\n",
              "                                                     [key], {});\n",
              "          if (!dataTable) return;\n",
              "\n",
              "          const docLinkHtml = 'Like what you see? Visit the ' +\n",
              "            '<a target=\"_blank\" href=https://colab.research.google.com/notebooks/data_table.ipynb>data table notebook</a>'\n",
              "            + ' to learn more about interactive tables.';\n",
              "          element.innerHTML = '';\n",
              "          dataTable['output_type'] = 'display_data';\n",
              "          await google.colab.output.renderOutput(dataTable, element);\n",
              "          const docLink = document.createElement('div');\n",
              "          docLink.innerHTML = docLinkHtml;\n",
              "          element.appendChild(docLink);\n",
              "        }\n",
              "      </script>\n",
              "    </div>\n",
              "  </div>\n",
              "  "
            ],
            "text/plain": [
              "     Daily New Tests  Daily new confirmed cases  Vaccinated Dose 1  \\\n",
              "0              13135                       1014                  0   \n",
              "1              12908                        990                  0   \n",
              "2              12877                        684                  0   \n",
              "3              12631                        835                  0   \n",
              "4              12389                        910                  0   \n",
              "..               ...                        ...                ...   \n",
              "361            17752                        373           73563574   \n",
              "362            17471                        397           73986361   \n",
              "363            17776                        495           74409148   \n",
              "364            18211                        509           74831934   \n",
              "365            18462                        512           75254721   \n",
              "\n",
              "     vaccinated Dose 2  Recovered  Trans_Lockdown  \n",
              "0                    0       1200               0  \n",
              "1                    0       1200               0  \n",
              "2                    0       1200               0  \n",
              "3                    0       2860               0  \n",
              "4                    0        944               0  \n",
              "..                 ...        ...             ...  \n",
              "361           51474890       6109               0  \n",
              "362           52096411       6124               0  \n",
              "363           52717932       6140               0  \n",
              "364           53339452       6155               0  \n",
              "365           53960973       6170               0  \n",
              "\n",
              "[366 rows x 6 columns]"
            ]
          },
          "metadata": {},
          "execution_count": 328
        }
      ]
    },
    {
      "cell_type": "code",
      "source": [
        "x_train,x_test,y_train,y_test = train_test_split(df_x,df_y,test_size=0.2,random_state=4)"
      ],
      "metadata": {
        "id": "Y0svcuynuTE3"
      },
      "execution_count": null,
      "outputs": []
    },
    {
      "cell_type": "markdown",
      "source": [
        "# **Linear Regression**"
      ],
      "metadata": {
        "id": "qIODBBsTuBc6"
      }
    },
    {
      "cell_type": "code",
      "source": [
        "reg_linear = linear_model.LinearRegression()"
      ],
      "metadata": {
        "id": "bf1_i8frs34Q"
      },
      "execution_count": null,
      "outputs": []
    },
    {
      "cell_type": "code",
      "source": [
        "reg_linear.fit(x_train,y_train)"
      ],
      "metadata": {
        "colab": {
          "base_uri": "https://localhost:8080/"
        },
        "id": "7LXSWvvKuO1Q",
        "outputId": "79204fb7-1dd1-4604-8b51-2f187357ab99"
      },
      "execution_count": null,
      "outputs": [
        {
          "output_type": "execute_result",
          "data": {
            "text/plain": [
              "LinearRegression()"
            ]
          },
          "metadata": {},
          "execution_count": 354
        }
      ]
    },
    {
      "cell_type": "code",
      "source": [
        "y_predict =reg_linear.predict(x_test)\n",
        "y_predict=abs(y_predict)"
      ],
      "metadata": {
        "id": "clC3usAcvxh9"
      },
      "execution_count": null,
      "outputs": []
    },
    {
      "cell_type": "code",
      "source": [
        "o=y_test['Daily new deaths']"
      ],
      "metadata": {
        "id": "d-g3brvS-JFA"
      },
      "execution_count": null,
      "outputs": []
    },
    {
      "cell_type": "code",
      "source": [
        "#Mean Absolute Error(MAE):\n",
        "MAE=mean_absolute_error(y_test, y_predict)\n",
        "#Mean Square Error(MSE):\n",
        "MSE=mean_squared_error(y_test, y_predict)\n",
        "#Root Mean Squared Error (RMSE):\n",
        "RMSE=mean_squared_error(y_test, y_predict,squared=False)\n",
        "#R-squared:\n",
        "Rsquare=r2_score(y_test, y_predict)\n",
        "\n",
        "print('Mean Absolute Error(MAE): '+str(MAE))\n",
        "print('Mean Square Error(MSE): '+str(MSE))\n",
        "print('Root Mean Squared Error (RMSE): '+str(RMSE))\n",
        "print('R-squared: '+str(Rsquare))\n",
        "\n"
      ],
      "metadata": {
        "colab": {
          "base_uri": "https://localhost:8080/"
        },
        "id": "Kb3szoxFyNzn",
        "outputId": "de861170-cd03-43b6-ce58-c3b78c62122f"
      },
      "execution_count": null,
      "outputs": [
        {
          "output_type": "stream",
          "name": "stdout",
          "text": [
            "Mean Absolute Error(MAE): 8.809986448547233\n",
            "Mean Square Error(MSE): 185.53982732901187\n",
            "Root Mean Squared Error (RMSE): 13.621300500650145\n",
            "R-squared: 0.4852364533689528\n"
          ]
        }
      ]
    },
    {
      "cell_type": "code",
      "source": [
        "#Grapg Plot\n",
        "x = []\n",
        "for val in y_predict:\n",
        "   x.append(val[0])\n",
        "items= list(range(1, len(x)+1))\n",
        "plt.bar(items,x,width=-0.5,align='edge',edgecolor='white',label='Predicted value')\n",
        "plt.bar(items,o,width=0.5,align='edge',color='red',edgecolor='white',label='original value')\n",
        "plt.legend()\n",
        "plt.show()"
      ],
      "metadata": {
        "colab": {
          "base_uri": "https://localhost:8080/",
          "height": 265
        },
        "id": "QcuEWSaiyVTX",
        "outputId": "9a596d5c-f462-443a-ebcc-ae0b321ca88f"
      },
      "execution_count": null,
      "outputs": [
        {
          "output_type": "display_data",
          "data": {
            "image/png": "[encoded data removed]",
            "text/plain": [
              "<Figure size 432x288 with 1 Axes>"
            ]
          },
          "metadata": {
            "needs_background": "light"
          }
        }
      ]
    },
    {
      "cell_type": "markdown",
      "source": [
        "# **Random Forest Regressor**"
      ],
      "metadata": {
        "id": "h0nL0yIYWzB9"
      }
    },
    {
      "cell_type": "code",
      "source": [
        "regr = RandomForestRegressor(max_depth=6, random_state=0)\n",
        "regr.fit(x_train,y_train)"
      ],
      "metadata": {
        "colab": {
          "base_uri": "https://localhost:8080/"
        },
        "id": "h_uOfNyuWJKC",
        "outputId": "ed416dbb-098a-4c16-b539-7181b87fee3e"
      },
      "execution_count": null,
      "outputs": [
        {
          "output_type": "stream",
          "name": "stderr",
          "text": [
            "/usr/local/lib/python3.7/dist-packages/ipykernel_launcher.py:2: DataConversionWarning: A column-vector y was passed when a 1d array was expected. Please change the shape of y to (n_samples,), for example using ravel().\n",
            "  \n"
          ]
        },
        {
          "output_type": "execute_result",
          "data": {
            "text/plain": [
              "RandomForestRegressor(max_depth=6, random_state=0)"
            ]
          },
          "metadata": {},
          "execution_count": 424
        }
      ]
    },
    {
      "cell_type": "code",
      "source": [
        "y_regr_predict = regr.predict(x_test)"
      ],
      "metadata": {
        "id": "q1YjxG05bNIP"
      },
      "execution_count": null,
      "outputs": []
    },
    {
      "cell_type": "code",
      "source": [
        "y_regr_predict"
      ],
      "metadata": {
        "id": "Vy5NJi4xbkfR"
      },
      "execution_count": null,
      "outputs": []
    },
    {
      "cell_type": "code",
      "source": [
        "#Mean Absolute Error(MAE):\n",
        "MAE=mean_absolute_error(y_test, y_regr_predict)\n",
        "#Mean Square Error(MSE):\n",
        "MSE=mean_squared_error(y_test, y_regr_predict)\n",
        "#Root Mean Squared Error (RMSE):\n",
        "RMSE=mean_squared_error(y_test, y_regr_predict,squared=False)\n",
        "#R-squared:\n",
        "Rsquare=r2_score(y_test, y_regr_predict)\n",
        "\n",
        "print('Mean Absolute Error(MAE): '+str(MAE))\n",
        "print('Mean Square Error(MSE): '+str(MSE))\n",
        "print('Root Mean Squared Error (RMSE): '+str(RMSE))\n",
        "print('R-squared: '+str(Rsquare))\n"
      ],
      "metadata": {
        "colab": {
          "base_uri": "https://localhost:8080/"
        },
        "id": "pd_GTs38dldG",
        "outputId": "b3e41935-bce8-4dd0-c474-a39f5c254d28"
      },
      "execution_count": null,
      "outputs": [
        {
          "output_type": "stream",
          "name": "stdout",
          "text": [
            "Mean Absolute Error(MAE): 3.7745558990889125\n",
            "Mean Square Error(MSE): 57.49563819468397\n",
            "Root Mean Squared Error (RMSE): 7.582587829671607\n",
            "R-squared: 0.8404835282053582\n"
          ]
        }
      ]
    },
    {
      "cell_type": "code",
      "source": [
        "#Grapg Plot\n",
        "x_rfr = []\n",
        "for val in y_regr_predict:\n",
        "   x_rfr.append(val)\n",
        "items= list(range(1, len(x_rfr)+1))\n",
        "plt.bar(items,x_rfr,width=-0.5,align='edge',edgecolor='white',label='Predicted value')\n",
        "plt.bar(items,o,width=0.5,align='edge',color='red',edgecolor='white',label='original value')\n",
        "plt.legend()\n",
        "plt.show()"
      ],
      "metadata": {
        "colab": {
          "base_uri": "https://localhost:8080/",
          "height": 265
        },
        "id": "xnKdGSTqdzRN",
        "outputId": "d5bd1da7-0144-43fe-d307-340a32e9ed4a"
      },
      "execution_count": null,
      "outputs": [
        {
          "output_type": "display_data",
          "data": {
            "image/png": "[encoded data removed]",
            "text/plain": [
              "<Figure size 432x288 with 1 Axes>"
            ]
          },
          "metadata": {
            "needs_background": "light"
          }
        }
      ]
    },
    {
      "cell_type": "markdown",
      "source": [
        "# Polynomial Linear Regression"
      ],
      "metadata": {
        "id": "2aMPp4ixGRgf"
      }
    },
    {
      "cell_type": "code",
      "source": [
        "poly = PolynomialFeatures(2)\n",
        "x_poly = poly.fit_transform(x_train)\n",
        "poly.fit(x_train,y_train)\n",
        "\n",
        "\n",
        "model = linear_model.LinearRegression()\n",
        "model.fit(x_poly,y_train)\n",
        "\n",
        "pred_poly = model.predict(poly.fit_transform(x_test))"
      ],
      "metadata": {
        "id": "gTFENO3TGS0K"
      },
      "execution_count": null,
      "outputs": []
    },
    {
      "cell_type": "code",
      "source": [
        "pred_poly"
      ],
      "metadata": {
        "id": "5bH6vy4FGhRC"
      },
      "execution_count": null,
      "outputs": []
    },
    {
      "cell_type": "code",
      "source": [
        "#Mean Absolute Error(MAE):\n",
        "MAE=mean_absolute_error(y_test, pred_poly)\n",
        "#Mean Square Error(MSE):\n",
        "MSE=mean_squared_error(y_test, pred_poly)\n",
        "#Root Mean Squared Error (RMSE):\n",
        "RMSE=mean_squared_error(y_test, pred_poly,squared=False)\n",
        "#R-squared:\n",
        "Rsquare=r2_score(y_test, pred_poly)\n",
        "\n",
        "print('Mean Absolute Error(MAE): '+str(MAE))\n",
        "print('Mean Square Error(MSE): '+str(MSE))\n",
        "print('Root Mean Squared Error (RMSE): '+str(RMSE))\n",
        "print('R-squared: '+str(Rsquare))"
      ],
      "metadata": {
        "colab": {
          "base_uri": "https://localhost:8080/"
        },
        "id": "4HUcmaXYHfHu",
        "outputId": "ab1be7bf-540d-4ce8-9e7f-0a76f3968b94"
      },
      "execution_count": null,
      "outputs": [
        {
          "output_type": "stream",
          "name": "stdout",
          "text": [
            "Mean Absolute Error(MAE): 8.023383727437926\n",
            "Mean Square Error(MSE): 117.9469627377067\n",
            "Root Mean Squared Error (RMSE): 10.860338978950274\n",
            "R-squared: 0.6727667707399649\n"
          ]
        }
      ]
    },
    {
      "cell_type": "code",
      "source": [
        "#Grapg Plot\n",
        "x = []\n",
        "for val in pred_poly:\n",
        "   x.append(val[0])\n",
        "items= list(range(1, len(x)+1))\n",
        "plt.bar(items,x,width=-0.5,align='edge',edgecolor='white',label='Predicted value')\n",
        "plt.bar(items,o,width=0.5,align='edge',color='red',edgecolor='white',label='original value')\n",
        "plt.legend()\n",
        "plt.show()"
      ],
      "metadata": {
        "colab": {
          "base_uri": "https://localhost:8080/",
          "height": 265
        },
        "id": "hwgLxXZoHMuw",
        "outputId": "f3e74956-51b2-4b8b-a5fa-df96b3aa156b"
      },
      "execution_count": null,
      "outputs": [
        {
          "output_type": "display_data",
          "data": {
            "image/png": "[encoded data removed]",
            "text/plain": [
              "<Figure size 432x288 with 1 Axes>"
            ]
          },
          "metadata": {
            "needs_background": "light"
          }
        }
      ]
    },
    {
      "cell_type": "markdown",
      "source": [],
      "metadata": {
        "id": "XiQbwqbkT3_5"
      }
    },
    {
      "cell_type": "markdown",
      "source": [
        "# Logistic Regression"
      ],
      "metadata": {
        "id": "BHgC2aK-K3o0"
      }
    },
    {
      "cell_type": "code",
      "source": [
        "clf = LogisticRegression(random_state=0)\n",
        "clf.fit (x_train,y_train)\n"
      ],
      "metadata": {
        "colab": {
          "base_uri": "https://localhost:8080/"
        },
        "id": "-0ZfDJ5qK5Ua",
        "outputId": "cc0d2054-2368-4a4f-9670-9be7c6e0497b"
      },
      "execution_count": null,
      "outputs": [
        {
          "output_type": "stream",
          "name": "stderr",
          "text": [
            "/usr/local/lib/python3.7/dist-packages/sklearn/utils/validation.py:993: DataConversionWarning: A column-vector y was passed when a 1d array was expected. Please change the shape of y to (n_samples, ), for example using ravel().\n",
            "  y = column_or_1d(y, warn=True)\n",
            "/usr/local/lib/python3.7/dist-packages/sklearn/linear_model/_logistic.py:818: ConvergenceWarning: lbfgs failed to converge (status=1):\n",
            "STOP: TOTAL NO. of ITERATIONS REACHED LIMIT.\n",
            "\n",
            "Increase the number of iterations (max_iter) or scale the data as shown in:\n",
            "    https://scikit-learn.org/stable/modules/preprocessing.html\n",
            "Please also refer to the documentation for alternative solver options:\n",
            "    https://scikit-learn.org/stable/modules/linear_model.html#logistic-regression\n",
            "  extra_warning_msg=_LOGISTIC_SOLVER_CONVERGENCE_MSG,\n"
          ]
        },
        {
          "output_type": "execute_result",
          "data": {
            "text/plain": [
              "LogisticRegression(random_state=0)"
            ]
          },
          "metadata": {},
          "execution_count": 368
        }
      ]
    },
    {
      "cell_type": "code",
      "source": [
        "lgr_pred = clf.predict(x_test)"
      ],
      "metadata": {
        "id": "mSFnSQB-NPFS"
      },
      "execution_count": null,
      "outputs": []
    },
    {
      "cell_type": "code",
      "source": [
        "lgr_pred"
      ],
      "metadata": {
        "colab": {
          "base_uri": "https://localhost:8080/"
        },
        "id": "2LaX-npPNoc-",
        "outputId": "d3bbfb17-6d51-4ce8-9cc7-3191b90b3834"
      },
      "execution_count": null,
      "outputs": [
        {
          "output_type": "execute_result",
          "data": {
            "text/plain": [
              "array([ 3,  3, 18, 30, 18,  1, 18,  1,  1, 30,  7, 30,  1,  1, 30, 18,  1,\n",
              "        1,  3, 18,  3,  7, 18,  1,  1,  3,  1,  7,  3,  1, 18, 18, 30, 18,\n",
              "       18, 18,  1, 18, 30, 18,  1, 18, 18,  1,  1,  1, 18,  1, 30,  3, 14,\n",
              "        7, 18, 18, 30,  7, 18,  7, 18,  1,  3, 18, 18, 18, 18, 14, 30,  1,\n",
              "        1, 14, 18,  1,  1,  1])"
            ]
          },
          "metadata": {},
          "execution_count": 370
        }
      ]
    },
    {
      "cell_type": "code",
      "source": [
        "#Mean Absolute Error(MAE):\n",
        "MAE=mean_absolute_error(y_test, lgr_pred)\n",
        "#Mean Square Error(MSE):\n",
        "MSE=mean_squared_error(y_test, lgr_pred)\n",
        "#Root Mean Squared Error (RMSE):\n",
        "RMSE=mean_squared_error(y_test, lgr_pred,squared=False)\n",
        "#R-squared:\n",
        "Rsquare=r2_score(y_test, lgr_pred)\n",
        "\n",
        "print('Mean Absolute Error(MAE): '+str(MAE))\n",
        "print('Mean Square Error(MSE): '+str(MSE))\n",
        "print('Root Mean Squared Error (RMSE): '+str(RMSE))\n",
        "print('R-squared: '+str(Rsquare))"
      ],
      "metadata": {
        "colab": {
          "base_uri": "https://localhost:8080/"
        },
        "id": "tnMkZcqwOm9h",
        "outputId": "1cbfc091-4e2d-4499-fbf4-eab7dda608a9"
      },
      "execution_count": null,
      "outputs": [
        {
          "output_type": "stream",
          "name": "stdout",
          "text": [
            "Mean Absolute Error(MAE): 14.027027027027026\n",
            "Mean Square Error(MSE): 431.7567567567568\n",
            "Root Mean Squared Error (RMSE): 20.77875734390189\n",
            "R-squared: -0.19787025022887894\n"
          ]
        }
      ]
    },
    {
      "cell_type": "code",
      "source": [
        "#Grapg Plot\n",
        "x = []\n",
        "for val in lgr_pred:\n",
        "   x.append(val)\n",
        "items= list(range(1, len(x)+1))\n",
        "plt.bar(items,x,width=-0.5,align='edge',edgecolor='white',label='Predicted value')\n",
        "plt.bar(items,o,width=0.5,align='edge',color='red',edgecolor='white',label='original value')\n",
        "plt.legend()\n",
        "plt.show()"
      ],
      "metadata": {
        "colab": {
          "base_uri": "https://localhost:8080/",
          "height": 265
        },
        "id": "RzHmtZIrOLxa",
        "outputId": "b761a36c-230e-4224-d51c-8a505386056e"
      },
      "execution_count": null,
      "outputs": [
        {
          "output_type": "display_data",
          "data": {
            "image/png": "[encoded data removed]",
            "text/plain": [
              "<Figure size 432x288 with 1 Axes>"
            ]
          },
          "metadata": {
            "needs_background": "light"
          }
        }
      ]
    },
    {
      "cell_type": "markdown",
      "source": [
        "#Ridge Regression"
      ],
      "metadata": {
        "id": "mWvPghxKIy0q"
      }
    },
    {
      "cell_type": "code",
      "source": [
        "rr = Ridge(alpha=0.01)\n",
        "rr.fit(x_train, y_train)\n",
        "\n",
        "y_rr_predict = rr.predict(x_test)\n",
        "\n",
        "\n"
      ],
      "metadata": {
        "id": "QfHmWrriIyOj",
        "outputId": "39c7b92c-172e-4c97-cbca-42ccb9a30c5b",
        "colab": {
          "base_uri": "https://localhost:8080/"
        }
      },
      "execution_count": null,
      "outputs": [
        {
          "output_type": "stream",
          "name": "stderr",
          "text": [
            "/usr/local/lib/python3.7/dist-packages/sklearn/linear_model/_ridge.py:157: LinAlgWarning: Ill-conditioned matrix (rcond=1.0389e-16): result may not be accurate.\n",
            "  return linalg.solve(A, Xy, sym_pos=True, overwrite_a=True).T\n"
          ]
        }
      ]
    },
    {
      "cell_type": "code",
      "source": [
        "#Mean Absolute Error(MAE):\n",
        "MAE=mean_absolute_error(y_test, y_rr_predict)\n",
        "#Mean Square Error(MSE):\n",
        "MSE=mean_squared_error(y_test, y_rr_predict)\n",
        "#Root Mean Squared Error (RMSE):\n",
        "RMSE=mean_squared_error(y_test, y_rr_predict,squared=False)\n",
        "#R-squared:\n",
        "Rsquare=r2_score(y_test, y_rr_predict)\n",
        "\n",
        "print('Mean Absolute Error(MAE): '+str(MAE))\n",
        "print('Mean Square Error(MSE): '+str(MSE))\n",
        "print('Root Mean Squared Error (RMSE): '+str(RMSE))\n",
        "print('R-squared: '+str(Rsquare))"
      ],
      "metadata": {
        "id": "9hL_Sre9L3OI",
        "outputId": "3f2eae07-8513-4f8e-bed4-56a13c91b549",
        "colab": {
          "base_uri": "https://localhost:8080/"
        }
      },
      "execution_count": null,
      "outputs": [
        {
          "output_type": "stream",
          "name": "stdout",
          "text": [
            "Mean Absolute Error(MAE): 8.94521169001169\n",
            "Mean Square Error(MSE): 186.72071694664766\n",
            "Root Mean Squared Error (RMSE): 13.664578915819092\n",
            "R-squared: 0.48196018144122255\n"
          ]
        }
      ]
    },
    {
      "cell_type": "code",
      "source": [
        "#Grapg Plot\n",
        "x_rr = []\n",
        "for val in y_rr_predict:\n",
        "   x_rr.append(val[0])\n",
        "items= list(range(1, len(x_rr)+1))\n",
        "plt.bar(items,x_rr,width=-0.5,align='edge',edgecolor='white',label='Predicted value')\n",
        "plt.bar(items,o,width=0.5,align='edge',color='red',edgecolor='white',label='original value')\n",
        "plt.legend()\n",
        "plt.show()"
      ],
      "metadata": {
        "id": "14KM_0VYMDHx",
        "outputId": "85d69130-1f76-4b59-9fdb-470f6bb0b11d",
        "colab": {
          "base_uri": "https://localhost:8080/",
          "height": 265
        }
      },
      "execution_count": null,
      "outputs": [
        {
          "output_type": "display_data",
          "data": {
            "image/png": "[encoded data removed]",
            "text/plain": [
              "<Figure size 432x288 with 1 Axes>"
            ]
          },
          "metadata": {
            "needs_background": "light"
          }
        }
      ]
    },
    {
      "cell_type": "markdown",
      "source": [
        "# Lasso Regression"
      ],
      "metadata": {
        "id": "XR9r3UzAMwDi"
      }
    },
    {
      "cell_type": "code",
      "source": [
        "lasso = Lasso()\n",
        "lasso.fit(x_train,y_train)\n",
        "\n",
        "y_ls_predict = lasso.predict(x_test)\n"
      ],
      "metadata": {
        "id": "6c-576ZQMzrO"
      },
      "execution_count": null,
      "outputs": []
    },
    {
      "cell_type": "code",
      "source": [
        "#Mean Absolute Error(MAE):\n",
        "MAE=mean_absolute_error(y_test, y_ls_predict)\n",
        "#Mean Square Error(MSE):\n",
        "MSE=mean_squared_error(y_test, y_ls_predict)\n",
        "#Root Mean Squared Error (RMSE):\n",
        "RMSE=mean_squared_error(y_test, y_ls_predict,squared=False)\n",
        "#R-squared:\n",
        "Rsquare=r2_score(y_test, y_ls_predict)\n",
        "\n",
        "print('Mean Absolute Error(MAE): '+str(MAE))\n",
        "print('Mean Square Error(MSE): '+str(MSE))\n",
        "print('Root Mean Squared Error (RMSE): '+str(RMSE))\n",
        "print('R-squared: '+str(Rsquare))"
      ],
      "metadata": {
        "id": "GVoOAWarNSgQ",
        "outputId": "b1289778-e015-4e52-b53e-2201e1a153e6",
        "colab": {
          "base_uri": "https://localhost:8080/"
        }
      },
      "execution_count": null,
      "outputs": [
        {
          "output_type": "stream",
          "name": "stdout",
          "text": [
            "Mean Absolute Error(MAE): 9.393490525526534\n",
            "Mean Square Error(MSE): 183.94030078398512\n",
            "Root Mean Squared Error (RMSE): 13.562459245431306\n",
            "R-squared: 0.48967419576152504\n"
          ]
        }
      ]
    },
    {
      "cell_type": "code",
      "source": [
        "#Grapg Plot\n",
        "x_ls = []\n",
        "for val in y_ls_predict:\n",
        "   x_ls.append(val)\n",
        "items= list(range(1, len(x_ls)+1))\n",
        "plt.bar(items,x_ls,width=-0.5,align='edge',edgecolor='white',label='Predicted value')\n",
        "plt.bar(items,o,width=0.5,align='edge',color='red',edgecolor='white',label='original value')\n",
        "plt.legend()\n",
        "plt.show()"
      ],
      "metadata": {
        "id": "3Q0HnsykNkhr",
        "outputId": "9ac49b77-d006-43a3-a7b0-8a2b41373e88",
        "colab": {
          "base_uri": "https://localhost:8080/",
          "height": 265
        }
      },
      "execution_count": null,
      "outputs": [
        {
          "output_type": "display_data",
          "data": {
            "image/png": "[encoded data removed]",
            "text/plain": [
              "<Figure size 432x288 with 1 Axes>"
            ]
          },
          "metadata": {
            "needs_background": "light"
          }
        }
      ]
    },
    {
      "cell_type": "code",
      "source": [
        "y_ls_predict"
      ],
      "metadata": {
        "id": "4lDXs6ZJN_zZ",
        "outputId": "88a32c52-46d2-43f2-eff0-29409700f6cc",
        "colab": {
          "base_uri": "https://localhost:8080/"
        }
      },
      "execution_count": null,
      "outputs": [
        {
          "output_type": "execute_result",
          "data": {
            "text/plain": [
              "array([ 3.44132559, 13.24839234, 19.55499143, 19.56592437, 32.82663549,\n",
              "        0.11503141, 19.9581165 ,  8.98696272, 54.58028742, 18.45708715,\n",
              "       24.84864479, 17.54301604, -2.57801855, 25.99166055, 23.47038427,\n",
              "       18.40473735, 17.08971469, -7.16890751,  1.73172701, 14.86425679,\n",
              "        7.18196873, 15.95558868, 46.23906336,  0.93239451, -3.86411097,\n",
              "        7.06064522, 17.20479928, 43.14970673,  2.78812049, 13.31123374,\n",
              "       20.18804567, 18.72839884, 17.08669348, 50.50142934, 23.0634503 ,\n",
              "       22.05878694, -0.63864299, 17.6769753 , 19.05760541, 32.58798645,\n",
              "       46.61980822, 46.74040472, 18.88328306, 27.9494226 , 18.56569918,\n",
              "       10.71402157, 16.87239815, 28.05145227, 22.54758297,  6.42061402,\n",
              "       44.98707584, 25.30414143, 18.710696  , 30.32080469, 18.1974487 ,\n",
              "       15.9413148 , 19.74532144, 25.76990147, 20.3358968 , 40.18678634,\n",
              "       17.22404547, 53.9416667 , 57.55999721, 18.56087631, 22.75210566,\n",
              "       20.08887782, 19.83448488, 19.70078451, 16.72258132, 29.70127494,\n",
              "       31.17242972, 11.46547007, 17.74472971, 11.0846185 ])"
            ]
          },
          "metadata": {},
          "execution_count": 379
        }
      ]
    }
  ]
}